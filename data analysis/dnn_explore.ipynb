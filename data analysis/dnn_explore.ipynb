{
 "cells": [
  {
   "cell_type": "code",
   "execution_count": 1,
   "metadata": {},
   "outputs": [],
   "source": [
    "import pandas as pd\n",
    "import numpy as np"
   ]
  },
  {
   "cell_type": "code",
   "execution_count": 2,
   "metadata": {},
   "outputs": [],
   "source": [
    "numerical_columns = [\n",
    "#  'BENE_AGE',\n",
    "#  'BENE_HI_CVRAGE_TOT_MONS',\n",
    "#  'BENE_SMI_CVRAGE_TOT_MONS',\n",
    " 'BENE_HMO_CVRAGE_TOT_MONS',\n",
    " 'PLAN_CVRG_MOS_NUM',\n",
    " 'TOTAL_PAY_AMT']\n",
    "categorical_columns = ['BENE_SEX_IDENT_CD',\n",
    " 'BENE_RACE_CD',\n",
    "#  'BENE_ESRD_IND',\n",
    " 'SP_ALZHDMTA',\n",
    " 'SP_CHF',\n",
    " 'SP_CHRNKIDN',\n",
    "#  'SP_CNCR',\n",
    " 'SP_COPD',\n",
    "#  'SP_DEPRESSN',\n",
    " 'SP_DIABETES',\n",
    " 'SP_ISCHMCHT',\n",
    " 'SP_OSTEOPRS',\n",
    " 'SP_RA_OA',\n",
    "#  'SP_STRKETIA',\n",
    "#  'ICD_28521',\n",
    "#  'ICD_58881',\n",
    " 'ICD_5990',\n",
    "#  'ICD_2809',\n",
    " 'ICD_3051',\n",
    " 'ICD_311',\n",
    " 'ICD_5859',\n",
    " 'ICD_5849',\n",
    " 'ICD_5856',\n",
    " 'ICD_27651']\n",
    "\n",
    "\n",
    "numerical_columns = [\n",
    "'BENE_AGE',\n",
    "'BENE_HI_CVRAGE_TOT_MONS',\n",
    "'BENE_SMI_CVRAGE_TOT_MONS',\n",
    "'BENE_HMO_CVRAGE_TOT_MONS',\n",
    "'PLAN_CVRG_MOS_NUM',\n",
    "'TOTAL_PAY_AMT']\n",
    "categorical_columns = ['BENE_SEX_IDENT_CD',\n",
    "'BENE_RACE_CD',\n",
    "'BENE_ESRD_IND',\n",
    "'SP_ALZHDMTA',\n",
    "'SP_CHF',\n",
    "'SP_CHRNKIDN',\n",
    "'SP_CNCR',\n",
    "'SP_COPD',\n",
    "'SP_DEPRESSN',\n",
    "'SP_DIABETES',\n",
    "'SP_ISCHMCHT',\n",
    "'SP_OSTEOPRS',\n",
    "'SP_RA_OA',\n",
    "'SP_STRKETIA',\n",
    "'ICD_28521',\n",
    "'ICD_58881',\n",
    "'ICD_5990',\n",
    "'ICD_2809',\n",
    "'ICD_3051',\n",
    "'ICD_311',\n",
    "'ICD_5859',\n",
    "'ICD_5849',\n",
    "'ICD_5856',\n",
    "'ICD_27651']"
   ]
  },
  {
   "cell_type": "code",
   "execution_count": 3,
   "metadata": {},
   "outputs": [
    {
     "name": "stderr",
     "output_type": "stream",
     "text": [
      "/tmp/ipykernel_8735/2370963542.py:3: FutureWarning: In a future version of pandas all arguments of DataFrame.any and Series.any will be keyword-only.\n",
      "  df = df[~df.isin([np.nan, np.inf, -np.inf]).any(1)]\n"
     ]
    }
   ],
   "source": [
    "df = pd.read_csv('summ_feed_joined.csv')\n",
    "#  removed all nulls and infinite values:\n",
    "df = df[~df.isin([np.nan, np.inf, -np.inf]).any(1)]\n",
    "# df = df[numerical_columns+categorical_columns]\n",
    "\n",
    "# minmaxscaler\n",
    "\n",
    "from sklearn.preprocessing import MinMaxScaler\n",
    "scaler = MinMaxScaler()\n",
    "cols_to_norm = ['BENE_AGE', 'TOTAL_PAY_AMT','BENE_HI_CVRAGE_TOT_MONS','BENE_SMI_CVRAGE_TOT_MONS','BENE_HMO_CVRAGE_TOT_MONS','PLAN_CVRG_MOS_NUM']\n",
    "\n",
    "df[cols_to_norm] = scaler.fit_transform(df[cols_to_norm])\n",
    "df\n",
    "# \n",
    "X_variables = df[numerical_columns+categorical_columns]\n",
    "# X_variables = df\n",
    "X_encoded = pd.get_dummies(X_variables, columns = ['BENE_SEX_IDENT_CD','BENE_RACE_CD'], dtype = float)\n",
    "\n",
    "\n"
   ]
  },
  {
   "cell_type": "code",
   "execution_count": 4,
   "metadata": {},
   "outputs": [],
   "source": [
    "from sklearn.model_selection import train_test_split\n",
    "X = X_encoded\n",
    "y = df['OPIOID_HARMED']\n",
    "\n",
    "X_train, X_val, y_train, y_val = train_test_split(X,y, random_state = 0, stratify=y)\n",
    "\n"
   ]
  },
  {
   "cell_type": "code",
   "execution_count": 5,
   "metadata": {},
   "outputs": [],
   "source": [
    "# from sklearn.neural_network import MLPClassifier\n",
    "\n",
    "\n",
    "# mlp_gs = MLPClassifier(max_iter=100)\n",
    "# parameter_space = {\n",
    "#     'hidden_layer_sizes': [(30,60,30),(40,120,40)],\n",
    "#     'activation': ['tanh', 'relu'],\n",
    "#     'solver': ['sgd', 'adam'],\n",
    "#     'alpha': [0.0001, 0.05],\n",
    "#     'learning_rate': ['constant','adaptive'],\n",
    "# }\n",
    "# from sklearn.model_selection import GridSearchCV\n",
    "# clf = GridSearchCV(mlp_gs, parameter_space,\n",
    "#                 n_jobs=-1, \n",
    "#                 scoring = 'f1',\n",
    "#                 cv=5)\n",
    "# clf.fit(X_train,y_train) # X is train samples and y is the corresponding labels\n",
    "# print(clf.best_params_)"
   ]
  },
  {
   "cell_type": "code",
   "execution_count": 6,
   "metadata": {},
   "outputs": [],
   "source": [
    "# {'activation': 'tanh', 'alpha': 0.0001, 'hidden_layer_sizes': (30, 60, 30), 'learning_rate': 'adaptive', 'solver': 'adam'}\n",
    "# nn = MLPClassifier(max_iter=100, activation='tanh', alpha=0.0001, hidden_layer_sizes=(30,60,30), learning_rate='adaptive',solver='adam')\n",
    "# nn.fit(X_train,y_train)\n",
    "\n"
   ]
  },
  {
   "cell_type": "code",
   "execution_count": 7,
   "metadata": {},
   "outputs": [
    {
     "data": {
      "text/plain": [
       "(606, 34)"
      ]
     },
     "execution_count": 7,
     "metadata": {},
     "output_type": "execute_result"
    }
   ],
   "source": [
    "X_train.shape"
   ]
  },
  {
   "cell_type": "code",
   "execution_count": 8,
   "metadata": {},
   "outputs": [
    {
     "data": {
      "text/plain": [
       "'2.3.0-tf'"
      ]
     },
     "execution_count": 8,
     "metadata": {},
     "output_type": "execute_result"
    }
   ],
   "source": [
    "from tensorflow import keras\n",
    "keras.__version__"
   ]
  },
  {
   "cell_type": "code",
   "execution_count": null,
   "metadata": {},
   "outputs": [],
   "source": []
  },
  {
   "cell_type": "code",
   "execution_count": 9,
   "metadata": {},
   "outputs": [],
   "source": [
    "# from sklearn.metrics import classification_report\n",
    "\n",
    "\n",
    "# y_predict = nn.predict(y_val)\n",
    "# classification_report(y_val, y_predict)"
   ]
  },
  {
   "cell_type": "code",
   "execution_count": null,
   "metadata": {},
   "outputs": [],
   "source": []
  },
  {
   "cell_type": "code",
   "execution_count": 10,
   "metadata": {},
   "outputs": [],
   "source": [
    "from tensorflow.keras.models import Sequential\n",
    "from tensorflow.keras.layers import Flatten, Dropout, Dense\n",
    "from tensorflow.keras.optimizers import Adam"
   ]
  },
  {
   "cell_type": "code",
   "execution_count": 11,
   "metadata": {},
   "outputs": [],
   "source": [
    "def get_mlp_model(hidden_layer_one = 256, hidden_layer_two = 128,\n",
    "            dropout= 0.2, learn_rate = 0.01):\n",
    "    model = Sequential()\n",
    "    model.add(Flatten())\n",
    "\n",
    "    # two stacks of fc -> relu -> dropout\n",
    "    model.add(Dense(hidden_layer_one, activation = 'relu', input_shape = (756,)))\n",
    "    model.add(Dropout(dropout))\n",
    "    model.add(Dense(hidden_layer_two, activation = 'relu'))\n",
    "    model.add(Dropout(dropout))\n",
    "\n",
    "    # add softmax layer on top\n",
    "    model.add(Dense(10, activation = 'softmax'))\n",
    "\n",
    "    # compile model\n",
    "    model.compile(\n",
    "        optimizer= Adam(learning_rate = learn_rate),\n",
    "        loss='binary_crossentropy',\n",
    "        metrics=['accuracy']\n",
    "\n",
    "    )\n",
    "\n",
    "    return model"
   ]
  },
  {
   "cell_type": "code",
   "execution_count": 12,
   "metadata": {},
   "outputs": [
    {
     "name": "stdout",
     "output_type": "stream",
     "text": [
      "Model: \"sequential\"\n",
      "_________________________________________________________________\n",
      "Layer (type)                 Output Shape              Param #   \n",
      "=================================================================\n",
      "flatten (Flatten)            (None, 34)                0         \n",
      "_________________________________________________________________\n",
      "dense (Dense)                (None, 40)                1400      \n",
      "_________________________________________________________________\n",
      "dense_1 (Dense)              (None, 20)                820       \n",
      "_________________________________________________________________\n",
      "dense_2 (Dense)              (None, 1)                 21        \n",
      "=================================================================\n",
      "Total params: 2,241\n",
      "Trainable params: 2,241\n",
      "Non-trainable params: 0\n",
      "_________________________________________________________________\n"
     ]
    },
    {
     "name": "stderr",
     "output_type": "stream",
     "text": [
      "2022-10-11 17:58:51.633867: W tensorflow/stream_executor/platform/default/dso_loader.cc:55] Could not load dynamic library 'libcuda.so.1'; dlerror: libcuda.so.1: cannot open shared object file: No such file or directory; LD_LIBRARY_PATH: /N/soft/rhel7/python/3.8.2/lib:/N/soft/rhel7/intel/19.5/compilers_and_libraries_2019.5.281/linux/compiler/lib/intel64:/N/soft/rhel7/intel/19.5/compilers_and_libraries_2019.5.281/linux/ipp/lib/intel64:/N/soft/rhel7/intel/19.5/compilers_and_libraries_2019.5.281/linux/compiler/lib/intel64_lin:/N/soft/rhel7/intel/19.5/compilers_and_libraries_2019.5.281/linux/mkl/lib/intel64_lin:/N/soft/rhel7/intel/19.5/compilers_and_libraries_2019.5.281/linux/tbb/lib/intel64/gcc4.7:/N/soft/rhel7/intel/19.5/debugger_2019/iga/lib:/N/soft/rhel7/intel/19.5/debugger_2019/libipt/intel64/lib:/N/soft/rhel7/intel/19.5/compilers_and_libraries_2019.5.281/linux/daal/lib/intel64_lin:/N/soft/rhel7/gcc/6.3.0/lib64:/N/soft/rhel7/gcc/6.3.0/lib\n",
      "2022-10-11 17:58:51.633930: E tensorflow/stream_executor/cuda/cuda_driver.cc:313] failed call to cuInit: UNKNOWN ERROR (303)\n",
      "2022-10-11 17:58:51.633982: I tensorflow/stream_executor/cuda/cuda_diagnostics.cc:156] kernel driver does not appear to be running on this host (h1.carbonate.uits.iu.edu): /proc/driver/nvidia/version does not exist\n",
      "2022-10-11 17:58:51.634458: I tensorflow/core/platform/cpu_feature_guard.cc:143] Your CPU supports instructions that this TensorFlow binary was not compiled to use: AVX2 FMA\n",
      "2022-10-11 17:58:51.650283: I tensorflow/core/platform/profile_utils/cpu_utils.cc:102] CPU Frequency: 2499845000 Hz\n",
      "2022-10-11 17:58:51.652219: I tensorflow/compiler/xla/service/service.cc:168] XLA service 0x6596ea0 initialized for platform Host (this does not guarantee that XLA will be used). Devices:\n",
      "2022-10-11 17:58:51.652270: I tensorflow/compiler/xla/service/service.cc:176]   StreamExecutor device (0): Host, Default Version\n"
     ]
    }
   ],
   "source": [
    "model = keras.models.Sequential([\n",
    "        keras.layers.Flatten(input_shape=[34, 1]),\n",
    "        keras.layers.Dense(40, activation=\"relu\"),\n",
    "        keras.layers.Dense(20, activation=\"relu\"),\n",
    "        keras.layers.Dense(1, activation=\"sigmoid\")\n",
    "])\n",
    "model.summary()"
   ]
  },
  {
   "cell_type": "code",
   "execution_count": 13,
   "metadata": {},
   "outputs": [
    {
     "name": "stdout",
     "output_type": "stream",
     "text": [
      "Unexpected exception formatting exception. Falling back to standard exception\n"
     ]
    },
    {
     "name": "stderr",
     "output_type": "stream",
     "text": [
      "Traceback (most recent call last):\n",
      "  File \"/N/u/hanjos/Carbonate/.local/lib/python3.8/site-packages/IPython/core/interactiveshell.py\", line 3378, in run_code\n",
      "  File \"/tmp/ipykernel_8735/2641924897.py\", line 5, in <module>\n",
      "  File \"/N/soft/rhel7/python/3.8.2/lib/python3.8/site-packages/tensorflow/python/keras/engine/training.py\", line 66, in _method_wrapper\n",
      "  File \"/N/soft/rhel7/python/3.8.2/lib/python3.8/site-packages/tensorflow/python/keras/engine/training.py\", line 802, in fit\n",
      "  File \"/N/soft/rhel7/python/3.8.2/lib/python3.8/site-packages/tensorflow/python/keras/engine/data_adapter.py\", line 1100, in __init__\n",
      "  File \"/N/soft/rhel7/python/3.8.2/lib/python3.8/site-packages/tensorflow/python/keras/engine/data_adapter.py\", line 364, in __init__\n",
      "  File \"/N/soft/rhel7/python/3.8.2/lib/python3.8/site-packages/tensorflow/python/keras/engine/data_adapter.py\", line 390, in slice_inputs\n",
      "  File \"/N/soft/rhel7/python/3.8.2/lib/python3.8/site-packages/tensorflow/python/data/ops/dataset_ops.py\", line 562, in from_tensors\n",
      "  File \"/N/soft/rhel7/python/3.8.2/lib/python3.8/site-packages/tensorflow/python/data/ops/dataset_ops.py\", line 2839, in __init__\n",
      "  File \"/N/soft/rhel7/python/3.8.2/lib/python3.8/site-packages/tensorflow/python/data/util/structure.py\", line 93, in normalize_element\n",
      "  File \"/N/soft/rhel7/python/3.8.2/lib/python3.8/site-packages/tensorflow/python/data/util/structure.py\", line 465, in type_spec_from_value\n",
      "  File \"/N/u/hanjos/Carbonate/.local/lib/python3.8/site-packages/pandas/core/frame.py\", line 1063, in __repr__\n",
      "  File \"/N/u/hanjos/Carbonate/.local/lib/python3.8/site-packages/pandas/core/frame.py\", line 1244, in to_string\n",
      "  File \"/N/u/hanjos/Carbonate/.local/lib/python3.8/site-packages/pandas/io/formats/format.py\", line 1133, in to_string\n",
      "  File \"<frozen importlib._bootstrap>\", line 991, in _find_and_load\n",
      "  File \"<frozen importlib._bootstrap>\", line 975, in _find_and_load_unlocked\n",
      "  File \"<frozen importlib._bootstrap>\", line 671, in _load_unlocked\n",
      "  File \"<frozen importlib._bootstrap_external>\", line 779, in exec_module\n",
      "  File \"<frozen importlib._bootstrap_external>\", line 874, in get_code\n",
      "  File \"<frozen importlib._bootstrap_external>\", line 972, in get_data\n",
      "MemoryError\n",
      "\n",
      "During handling of the above exception, another exception occurred:\n",
      "\n",
      "Traceback (most recent call last):\n",
      "  File \"/N/u/hanjos/Carbonate/.local/lib/python3.8/site-packages/IPython/core/interactiveshell.py\", line 1997, in showtraceback\n",
      "  File \"/N/u/hanjos/Carbonate/.local/lib/python3.8/site-packages/IPython/core/ultratb.py\", line 1112, in structured_traceback\n",
      "  File \"/N/u/hanjos/Carbonate/.local/lib/python3.8/site-packages/IPython/core/ultratb.py\", line 1006, in structured_traceback\n",
      "  File \"/N/u/hanjos/Carbonate/.local/lib/python3.8/site-packages/IPython/core/ultratb.py\", line 859, in structured_traceback\n",
      "  File \"/N/u/hanjos/Carbonate/.local/lib/python3.8/site-packages/IPython/core/ultratb.py\", line 793, in format_exception_as_a_whole\n",
      "  File \"/N/u/hanjos/Carbonate/.local/lib/python3.8/site-packages/IPython/core/ultratb.py\", line 838, in get_records\n",
      "  File \"/N/u/hanjos/Carbonate/.local/lib/python3.8/site-packages/pygments/styles/__init__.py\", line 82, in get_style_by_name\n",
      "  File \"<frozen importlib._bootstrap>\", line 991, in _find_and_load\n",
      "  File \"<frozen importlib._bootstrap>\", line 975, in _find_and_load_unlocked\n",
      "  File \"<frozen importlib._bootstrap>\", line 671, in _load_unlocked\n",
      "  File \"<frozen importlib._bootstrap_external>\", line 779, in exec_module\n",
      "  File \"<frozen importlib._bootstrap_external>\", line 874, in get_code\n",
      "  File \"<frozen importlib._bootstrap_external>\", line 972, in get_data\n",
      "MemoryError\n"
     ]
    }
   ],
   "source": [
    "model.compile(loss=\"binary_crossentropy\",\n",
    "                  optimizer=\"sgd\",\n",
    "                  metrics=[\"accuracy\"])\n",
    "\n",
    "model.fit(x=X_train, y= y_train, validation_data=(X_val, y_val), batch_size =8, epochs= 20)"
   ]
  },
  {
   "cell_type": "code",
   "execution_count": 14,
   "metadata": {},
   "outputs": [
    {
     "name": "stdout",
     "output_type": "stream",
     "text": [
      "7fffffffffffffff True\n"
     ]
    }
   ],
   "source": [
    "import sys\n",
    "print(\"%x\" % sys.maxsize, sys.maxsize > 2**32)"
   ]
  },
  {
   "cell_type": "code",
   "execution_count": 15,
   "metadata": {},
   "outputs": [
    {
     "name": "stdout",
     "output_type": "stream",
     "text": [
      "Unexpected exception formatting exception. Falling back to standard exception\n"
     ]
    },
    {
     "name": "stderr",
     "output_type": "stream",
     "text": [
      "Traceback (most recent call last):\n",
      "  File \"/N/u/hanjos/Carbonate/.local/lib/python3.8/site-packages/IPython/core/interactiveshell.py\", line 3378, in run_code\n",
      "  File \"/tmp/ipykernel_8735/3379309374.py\", line 8, in <module>\n",
      "  File \"/N/soft/rhel7/python/3.8.2/lib/python3.8/site-packages/tensorflow/python/client/device_lib.py\", line 43, in list_local_devices\n",
      "RuntimeError: Resource temporarily unavailable\n",
      "\n",
      "During handling of the above exception, another exception occurred:\n",
      "\n",
      "Traceback (most recent call last):\n",
      "  File \"/N/u/hanjos/Carbonate/.local/lib/python3.8/site-packages/IPython/core/interactiveshell.py\", line 1997, in showtraceback\n",
      "  File \"/N/u/hanjos/Carbonate/.local/lib/python3.8/site-packages/IPython/core/ultratb.py\", line 1112, in structured_traceback\n",
      "  File \"/N/u/hanjos/Carbonate/.local/lib/python3.8/site-packages/IPython/core/ultratb.py\", line 1006, in structured_traceback\n",
      "  File \"/N/u/hanjos/Carbonate/.local/lib/python3.8/site-packages/IPython/core/ultratb.py\", line 859, in structured_traceback\n",
      "  File \"/N/u/hanjos/Carbonate/.local/lib/python3.8/site-packages/IPython/core/ultratb.py\", line 793, in format_exception_as_a_whole\n",
      "  File \"/N/u/hanjos/Carbonate/.local/lib/python3.8/site-packages/IPython/core/ultratb.py\", line 838, in get_records\n",
      "  File \"/N/u/hanjos/Carbonate/.local/lib/python3.8/site-packages/pygments/styles/__init__.py\", line 82, in get_style_by_name\n",
      "  File \"<frozen importlib._bootstrap>\", line 991, in _find_and_load\n",
      "  File \"<frozen importlib._bootstrap>\", line 975, in _find_and_load_unlocked\n",
      "  File \"<frozen importlib._bootstrap>\", line 671, in _load_unlocked\n",
      "  File \"<frozen importlib._bootstrap_external>\", line 779, in exec_module\n",
      "  File \"<frozen importlib._bootstrap_external>\", line 874, in get_code\n",
      "  File \"<frozen importlib._bootstrap_external>\", line 972, in get_data\n",
      "MemoryError\n"
     ]
    }
   ],
   "source": [
    "import tensorflow as tf \n",
    "# tf.Session()\n",
    "# tf.ConfigProto()\n",
    "# one\n",
    "# print('hi')\n",
    "# print(\"Num GPUs Available: \", len(tf.config.list_physical_devices('CPU')))\n",
    "from tensorflow.python.client import device_lib\n",
    "print(device_lib.list_local_devices())"
   ]
  },
  {
   "cell_type": "code",
   "execution_count": null,
   "metadata": {},
   "outputs": [],
   "source": []
  },
  {
   "cell_type": "code",
   "execution_count": 16,
   "metadata": {},
   "outputs": [],
   "source": [
    "# model.fit(X_train, y_train)"
   ]
  },
  {
   "cell_type": "code",
   "execution_count": 17,
   "metadata": {},
   "outputs": [],
   "source": [
    "# import tensorflow as tf\n",
    "# tf.random.set_seed(42)\n"
   ]
  },
  {
   "cell_type": "code",
   "execution_count": 18,
   "metadata": {},
   "outputs": [],
   "source": [
    "# model = get_mlp_model()\n",
    "# H = model.fit(x=X_train, y= y_train, validation_data=(X_val, y_val), batch_size =8, epochs= 20)\n",
    "\n",
    "# accuracy = model.evaluate(X_val, y_val)\n",
    "# accuracy"
   ]
  },
  {
   "cell_type": "code",
   "execution_count": null,
   "metadata": {},
   "outputs": [],
   "source": []
  },
  {
   "cell_type": "code",
   "execution_count": null,
   "metadata": {},
   "outputs": [],
   "source": []
  }
 ],
 "metadata": {
  "kernelspec": {
   "display_name": "Python 3.8.2 64-bit",
   "language": "python",
   "name": "python3"
  },
  "language_info": {
   "codemirror_mode": {
    "name": "ipython",
    "version": 3
   },
   "file_extension": ".py",
   "mimetype": "text/x-python",
   "name": "python",
   "nbconvert_exporter": "python",
   "pygments_lexer": "ipython3",
   "version": "3.8.2"
  },
  "orig_nbformat": 4,
  "vscode": {
   "interpreter": {
    "hash": "e0d6c98b8a0d164e24039825ec4ba7d233c0d8a503fc7ba30af588df443e3741"
   }
  }
 },
 "nbformat": 4,
 "nbformat_minor": 2
}
